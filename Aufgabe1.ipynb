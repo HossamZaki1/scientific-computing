{
  "nbformat": 4,
  "nbformat_minor": 0,
  "metadata": {
    "kernelspec": {
      "display_name": "Python 3",
      "language": "python",
      "name": "python3"
    },
    "language_info": {
      "codemirror_mode": {
        "name": "ipython",
        "version": 3
      },
      "file_extension": ".py",
      "mimetype": "text/x-python",
      "name": "python",
      "nbconvert_exporter": "python",
      "pygments_lexer": "ipython3",
      "version": "3.8.8"
    },
    "colab": {
      "name": "Aufgabe1.ipynb",
      "provenance": [],
      "include_colab_link": true
    }
  },
  "cells": [
    {
      "cell_type": "markdown",
      "metadata": {
        "id": "view-in-github",
        "colab_type": "text"
      },
      "source": [
        "<a href=\"https://colab.research.google.com/github/HossamZaki1/scientific-computing/blob/main/Aufgabe1.ipynb\" target=\"_parent\"><img src=\"https://colab.research.google.com/assets/colab-badge.svg\" alt=\"Open In Colab\"/></a>"
      ]
    },
    {
      "cell_type": "markdown",
      "metadata": {
        "id": "c-SZb9vXXXLR"
      },
      "source": [
        "Group: XX (Name 1, Name 2, Name 3, Name 4)"
      ]
    },
    {
      "cell_type": "markdown",
      "metadata": {
        "id": "IrlNlLmUXXLa"
      },
      "source": [
        "[link text](https://)# Homework 1: Getting Started with Jupyter & Floating-Point Numbers\n",
        "\n",
        "Floating-point numbers are used on many computer architectures to approximate real numbers. However, in practice, they can behave very differently. The purpose of this homework is to experiment with floating-point numbers to understand them better. \n",
        "\n",
        "A secondary goal is to become familiar with Jupyter Notebooks. A general introduction to Jupyter Notebooks can be found in https://jupyter.org/. Make sure you are familiar with basic Python syntax and data types.\n",
        "\n",
        "Note that tasks that you need to complete are clearly marked as **Task**."
      ]
    },
    {
      "cell_type": "markdown",
      "metadata": {
        "id": "ySrrAtt2XXLc"
      },
      "source": [
        "- - -"
      ]
    },
    {
      "cell_type": "markdown",
      "metadata": {
        "id": "70uD7p_uXXLc"
      },
      "source": [
        "<div class=\"alert alert-info\">\n",
        "    \n",
        "## Simple but hard to remember\n",
        "</div>"
      ]
    },
    {
      "cell_type": "markdown",
      "metadata": {
        "id": "OlR4TwYHXXLd"
      },
      "source": [
        "<div class=\"alert alert-success\">\n",
        "    \n",
        "**Task**: Fill out the group number of the group members in the first cell above.\n",
        "</div>"
      ]
    },
    {
      "cell_type": "markdown",
      "metadata": {
        "id": "Yr-ucmStXXLe"
      },
      "source": [
        "<div class=\"alert alert-info\">\n",
        "    \n",
        "## Elementary Operations\n",
        "</div>\n",
        "\n",
        "In Python, the default type for floating point numbers (i.e., of the `float` data type) is the double-precision. Computations on these can be simply translated using the default math operators `+`,`-`,`*`,`/`. The `**` operator allows exponentiation. \n",
        "\n",
        "Example:"
      ]
    },
    {
      "cell_type": "code",
      "metadata": {
        "id": "Cc57nEejXXLe",
        "colab": {
          "base_uri": "https://localhost:8080/"
        },
        "outputId": "f9a4cbd9-839d-431b-c314-c8a4622dc27a"
      },
      "source": [
        "x = 25\n",
        "a = (3.5*x**2 - 32) * 4\n",
        "\n",
        "a"
      ],
      "execution_count": 2,
      "outputs": [
        {
          "output_type": "execute_result",
          "data": {
            "text/plain": [
              "8622.0"
            ]
          },
          "metadata": {},
          "execution_count": 2
        }
      ]
    },
    {
      "cell_type": "markdown",
      "metadata": {
        "id": "4M4W_3u7XXLh"
      },
      "source": [
        "By default, a notebook cell outputs the last result if unassigned, as above. Explicit printing, e.g. for intermediate results, is also possible."
      ]
    },
    {
      "cell_type": "code",
      "metadata": {
        "id": "cT_8rZiWXXLj",
        "colab": {
          "base_uri": "https://localhost:8080/"
        },
        "outputId": "32afe875-9f8e-4df8-bd72-fc19b239112c"
      },
      "source": [
        "b = a / 8622.0\n",
        "\n",
        "print( x, a, b )"
      ],
      "execution_count": 3,
      "outputs": [
        {
          "output_type": "stream",
          "name": "stdout",
          "text": [
            "25 8622.0 1.0\n"
          ]
        }
      ]
    },
    {
      "cell_type": "markdown",
      "metadata": {
        "id": "lG6pOyAzXXLk"
      },
      "source": [
        "Notes:\n",
        "- As is apparent above, variables defined in a cell live beyond the execution of the cell and can be used in later cells.\n",
        "- A number should be explicitly marked as float by either writing e.g. `float(3)` or `3.0`. Otherwise, numbers may be (mis-)interpreted as integers (`int` data type), and results may differ from expectations.\n",
        "\n",
        "It is possible to use the text (Markdown) cells to typeset mathematical equations in LaTeX format. For example, the general solution of the quadratic equation $ax^2 + bx + c = 0$ is given by\n",
        "\n",
        "$$x_{1,2} = \\frac{-b \\pm \\sqrt{b^2 - 4ac}}{2a}.$$\n",
        "\n",
        "This allows typesetting even complex formulas such as the Maxwell equations:\n",
        "\n",
        "$$\n",
        "\\begin{aligned}\n",
        "\\frac{\\partial\\mathcal{D}}{\\partial t} \\quad & = \\quad \\nabla\\times\\mathcal{H},   & \\\\[5pt]\n",
        "\\frac{\\partial\\mathcal{B}}{\\partial t} \\quad & = \\quad -\\nabla\\times\\mathcal{E},  & \\\\[5pt]\n",
        "\\nabla\\cdot\\mathcal{B}                 \\quad & = \\quad 0,                         & \\\\[5pt]\n",
        "\\nabla\\cdot\\mathcal{D}                 \\quad & = \\quad 0.                         & \n",
        "\\end{aligned}\n",
        "$$\n",
        "\n",
        "See the [Markdown formatting syntax](https://jupyter-notebook.readthedocs.io/en/stable/examples/Notebook/Working%20With%20Markdown%20Cells.html) for more examples of what is possible."
      ]
    },
    {
      "cell_type": "markdown",
      "metadata": {
        "id": "gDKVHAXXXXLl"
      },
      "source": [
        "<div class=\"alert alert-success\">\n",
        "    \n",
        "**Task**: Translate the formula for the roots of the quadratic equation above into a Python function that takes the coefficients $a$, $b$, $c$ as input and outputs returns the roots. Complete the skeleton function `quadratic_roots` given below. Validate your implementation by running the cell below after your implementation is complete. \n",
        "\n",
        "Notes: \n",
        "- Make sure to run the cell above after you have modified it to (re)define the function!\n",
        "- A quadratic equation can have two distinct roots (if $b^2-4ac \\geq 0$), one (double) root (if $b^2 = 4ac$), or no roots (if $b^2 < 4ac$). Return a list of roots, or `None` in the last case.\n",
        "- To compute the square root, you need the `sqrt` function from Python's `math` module; hence, this must be imported first, as already done below.\n",
        "\n",
        "</div>"
      ]
    },
    {
      "cell_type": "code",
      "metadata": {
        "id": "Pkyo_c-QXXLn"
      },
      "source": [
        "import math # <- needed for math.sqrt\n",
        "\n",
        "def quadratic_roots( a, b, c ):\n",
        "    \n",
        "    x = b**2 - 4*a*c\n",
        "    if x == 0:\n",
        "      solution_1 = (-b + math.sqrt(x))/(2*a)\n",
        "      solution_2 = None\n",
        "    elif x > 0:\n",
        "      solution_1 = (-b + math.sqrt(x))/(2*a)\n",
        "      solution_2 = (-b - math.sqrt(x))/(2*a)\n",
        "    else:\n",
        "      return None\n",
        "    return [solution_1, solution_2] "
      ],
      "execution_count": 6,
      "outputs": []
    },
    {
      "cell_type": "code",
      "metadata": {
        "id": "JZRAbWQkXXLn",
        "colab": {
          "base_uri": "https://localhost:8080/"
        },
        "outputId": "d6a43e4e-9c5d-4dfb-c7b0-221b5a71c015"
      },
      "source": [
        "print( quadratic_roots( 1, 0, 1 ) )\n",
        "print( quadratic_roots( 1, -4, 4 ) )\n",
        "print( quadratic_roots( 1, -3, 2 ) )"
      ],
      "execution_count": 7,
      "outputs": [
        {
          "output_type": "stream",
          "name": "stdout",
          "text": [
            "None\n",
            "[2.0, None]\n",
            "[2.0, 1.0]\n"
          ]
        }
      ]
    },
    {
      "cell_type": "markdown",
      "metadata": {
        "id": "CnNewCvMXXLo"
      },
      "source": [
        "- - - "
      ]
    },
    {
      "cell_type": "markdown",
      "metadata": {
        "id": "ZWc7rh4bXXLo"
      },
      "source": [
        "<div class=\"alert alert-info\">\n",
        "\n",
        "## Very Basic Plotting\n",
        "</div>\n",
        "\n",
        "Through the [matplotlib](https://matplotlib.org) Python package, it is possible to include basic (and also very fancy) plots in a Jupyter Notebook.\n",
        "\n",
        "To make sure this works, the package has to be installed. This can be done with the so-called *cell magic*\n",
        "```%pip install matplotlib```, which uses the Python package manager to install the package. (If the package is already installed, it does nothing, so it's safe to use it repeatedly.) \n",
        "\n",
        "Furthermore, matplotlib must be imported (`import matplotlib.pyplot as plt`) and instructed to output to Jupyter. The latter is done with the `%matplotlib inline` magic. Both of these must only be done once per notebook, preferably at the top.\n",
        "\n",
        "The below code illustrates all of this, and draws a nice plot. (Feel free to play around, and see also matplotlib's [tutorials](https://matplotlib.org/tutorials/index.html) and [examples](https://matplotlib.org/gallery/index.html))."
      ]
    },
    {
      "cell_type": "code",
      "metadata": {
        "id": "lBYskauwXXLo",
        "colab": {
          "base_uri": "https://localhost:8080/",
          "height": 286
        },
        "outputId": "ffdbdf3c-27e2-460a-d584-ab5326b64550"
      },
      "source": [
        "%pip install -q matplotlib \n",
        "%matplotlib inline\n",
        "\n",
        "import numpy as np\n",
        "import matplotlib.pyplot as plt\n",
        "\n",
        "np.random.seed(19680801)\n",
        "\n",
        "N = 50\n",
        "theta = np.linspace(0.0, 2 * np.pi, N, endpoint=False)\n",
        "radii = 10 * np.random.rand(N)\n",
        "width = np.pi / 4 * np.random.rand(N)\n",
        "colors = plt.cm.viridis(radii / 10.)\n",
        "\n",
        "ax = plt.subplot(111, projection='polar')\n",
        "ax.bar(theta, radii, width=width, bottom=0.0, color=colors, alpha=0.5)\n",
        "\n",
        "plt.show()"
      ],
      "execution_count": 8,
      "outputs": [
        {
          "output_type": "display_data",
          "data": {
            "image/png": "[encoded data removed]",
            "text/plain": [
              "<Figure size 432x288 with 1 Axes>"
            ]
          },
          "metadata": {
            "needs_background": "light"
          }
        }
      ]
    },
    {
      "cell_type": "markdown",
      "metadata": {
        "id": "zx3sVWwbXXLp"
      },
      "source": [
        "The `numpy` package provides tools for working with arrays of numbers, such as e.g. matrices or vectors. It is crucially used for plotting to set up arrays of coordinates. (It is not too important to understand the details of NumPy for this homework, but if you are interested, see [here](https://docs.scipy.org/doc/numpy/user/quickstart.html)).\n",
        "\n",
        "Here's a simpler plot:"
      ]
    },
    {
      "cell_type": "code",
      "metadata": {
        "id": "rTvpVF5nXXLq",
        "colab": {
          "base_uri": "https://localhost:8080/",
          "height": 265
        },
        "outputId": "a948a411-ac7b-4bf9-df5f-f6e5df51a11e"
      },
      "source": [
        "x = np.linspace( -math.pi, math.pi, 100 ) # create 100 points over interval (-pi,pi)\n",
        "f = np.cos(x)                             # compute function of all values in array\n",
        "plt.plot( x, f );                         # plot the result"
      ],
      "execution_count": 15,
      "outputs": [
        {
          "output_type": "display_data",
          "data": {
            "image/png": "[encoded data removed]",
            "text/plain": [
              "<Figure size 432x288 with 1 Axes>"
            ]
          },
          "metadata": {
            "needs_background": "light"
          }
        }
      ]
    },
    {
      "cell_type": "markdown",
      "metadata": {
        "id": "CQuMiWqlXXLq"
      },
      "source": [
        "<div class=\"alert alert-success\">\n",
        "\n",
        "**Task**: Plot the function $x^3 - \\sqrt{x}$ over $[-1,1]$ by duplicating and modifying the above example.\n",
        "</div>"
      ]
    },
    {
      "cell_type": "markdown",
      "metadata": {
        "id": "EioPalURYguh"
      },
      "source": [
        ""
      ]
    },
    {
      "cell_type": "code",
      "metadata": {
        "id": "_f_rntJGXXLr",
        "colab": {
          "base_uri": "https://localhost:8080/",
          "height": 300
        },
        "outputId": "46ee202e-6f6f-4f74-8f59-1c00df1a8168"
      },
      "source": [
        "x = np.linspace( -1, 1, 100 ) # create 100 points over interval (-pi,pi)\n",
        "plt.plot( x, x**3 - np.sqrt(x));                         # plot the result"
      ],
      "execution_count": 25,
      "outputs": [
        {
          "output_type": "stream",
          "name": "stderr",
          "text": [
            "/usr/local/lib/python3.7/dist-packages/ipykernel_launcher.py:2: RuntimeWarning: invalid value encountered in sqrt\n",
            "  \n"
          ]
        },
        {
          "output_type": "display_data",
          "data": {
            "image/png": "[encoded data removed]",
            "text/plain": [
              "<Figure size 432x288 with 1 Axes>"
            ]
          },
          "metadata": {
            "needs_background": "light"
          }
        }
      ]
    },
    {
      "cell_type": "markdown",
      "metadata": {
        "id": "pLIk2QBzXXLr"
      },
      "source": [
        "- - -"
      ]
    },
    {
      "cell_type": "markdown",
      "metadata": {
        "id": "ft2DTJRSXXLr"
      },
      "source": [
        "<div class=\"alert alert-info\">\n",
        "    \n",
        "## Properties of Floating-Point Numbers\n",
        "</div>\n",
        "\n",
        "After you have gotten more comfortable with Notebooks, let us now work on the lecture material.\n",
        "\n",
        "Python's `math` module offers many interesting functions. Use the `frexp` function to print mantissa (including sign) and exponent of floating-point numbers."
      ]
    },
    {
      "cell_type": "code",
      "metadata": {
        "id": "KjRjK1mxXXLs",
        "colab": {
          "base_uri": "https://localhost:8080/"
        },
        "outputId": "0d520767-326b-4a8a-b1ec-d53a6c055d07"
      },
      "source": [
        "print( \"1 =\", math.frexp(1.0) )\n",
        "print( \"16 =\", math.frexp(16.0) )\n",
        "print( \"1/256 =\", math.frexp(1/256.0))"
      ],
      "execution_count": 26,
      "outputs": [
        {
          "output_type": "stream",
          "name": "stdout",
          "text": [
            "1 = (0.5, 1)\n",
            "16 = (0.5, 5)\n",
            "1/256 = (0.5, -7)\n"
          ]
        }
      ]
    },
    {
      "cell_type": "markdown",
      "metadata": {
        "id": "uiFHJV-AXXLs"
      },
      "source": [
        "<div class=\"alert alert-success\">\n",
        "    \n",
        "**Task**: Write an inverse function that takes as arguments a mantissa (between 0 and 1) and exponent, and outputs the floating point number these represent.\n",
        "</div>"
      ]
    },
    {
      "cell_type": "code",
      "metadata": {
        "id": "fCsLH1r3XXLs"
      },
      "source": [
        "def make_float( mantissa, exponent ):\n",
        "    \n",
        "    # TODO\n",
        "    \n",
        "    return 0"
      ],
      "execution_count": null,
      "outputs": []
    },
    {
      "cell_type": "markdown",
      "metadata": {
        "id": "D7_hSu3OXXLt"
      },
      "source": [
        "Validate by running the cell below."
      ]
    },
    {
      "cell_type": "code",
      "metadata": {
        "id": "vtYSn6GlXXLt"
      },
      "source": [
        "a = 0.7578125\n",
        "m, e = math.frexp( a )\n",
        "print( a, make_float( m, e ) )\n",
        "\n",
        "a = 1/3\n",
        "m, e = math.frexp( a )\n",
        "print( a, make_float( m, e ) )"
      ],
      "execution_count": null,
      "outputs": []
    },
    {
      "cell_type": "markdown",
      "metadata": {
        "id": "0BVvDUc3XXLt"
      },
      "source": [
        "Beyond simply printing the number, Python can be instructed to use more or less precision when doing so. This is achieved using [string formatting](https://pyformat.info) like so:"
      ]
    },
    {
      "cell_type": "code",
      "metadata": {
        "id": "ISlQXeicXXLu"
      },
      "source": [
        "print( \" {:f}\".format(0.1) )       # simply format number in default style\n",
        "print( \" {:.10f}\".format(0.1) )    # use 10 digits of precision\n",
        "print( \" {:.20f}\".format(0.1) )    # use 20 digits of precision\n",
        "print( \" {:.30e}\".format(0.1) )    # use decimal scientific notation with 30 digits of precision"
      ],
      "execution_count": null,
      "outputs": []
    },
    {
      "cell_type": "markdown",
      "metadata": {
        "id": "CS-208YMXXLv"
      },
      "source": [
        "As is obvious, $0.1$ cannot be represented exactly as a floating-point number."
      ]
    },
    {
      "cell_type": "markdown",
      "metadata": {
        "id": "qCwIIrgSXXLv"
      },
      "source": [
        "<div class=\"alert alert-success\">\n",
        "    \n",
        "**Task**: To approximately determine the number of digits in the mantissa of a Python `float`, write a function that finds the smallest number $n$ such that $1+2^{-n}$ is equal to $1$, in floating-point arithmetic.\n",
        "\n",
        "Note: $2^{-(n-1)}$ is often called *machine epsilon*, because relative differences between numbers below this threshold are unreliable.\n",
        "</div>"
      ]
    },
    {
      "cell_type": "code",
      "metadata": {
        "id": "er6lHK2UXXLv"
      },
      "source": [
        "def epsilon():\n",
        "    \n",
        "    # TODO\n",
        "    \n",
        "    return 0\n",
        "\n",
        "e = epsilon()\n",
        "print(e, 2**(-e))"
      ],
      "execution_count": null,
      "outputs": []
    },
    {
      "cell_type": "markdown",
      "metadata": {
        "id": "at49Gx2gXXLw"
      },
      "source": [
        "This number is also available directly as `sys.float_info.epsilon` from the `sys` module."
      ]
    },
    {
      "cell_type": "code",
      "metadata": {
        "id": "nsTyfbeMXXLx"
      },
      "source": [
        "import sys\n",
        "print( sys.float_info.epsilon )"
      ],
      "execution_count": null,
      "outputs": []
    },
    {
      "cell_type": "markdown",
      "metadata": {
        "id": "ILzg6EgTXXLz"
      },
      "source": [
        "- - -"
      ]
    },
    {
      "cell_type": "markdown",
      "metadata": {
        "id": "jcTz9C1CXXLz"
      },
      "source": [
        "<div class=\"alert alert-info\">\n",
        "    \n",
        "## Horner's Method\n",
        "</div>"
      ]
    },
    {
      "cell_type": "markdown",
      "metadata": {
        "id": "r5Pij8z0XXL1"
      },
      "source": [
        "The *Horner's Method* can be used to evaluate a polynomial in a numerically robust manner.\n",
        "\n",
        "Consider for example the polynomial\n",
        "\n",
        "$$\n",
        "x^9 - 18x^8 + 144x^7 - 672x^6 + 2016x^5 - 4032x^4 + 5376x^3 - 4608x^2 + 2304x - 512.\n",
        "$$\n",
        "\n",
        "Below is a naive algorithm that evaluates the polynomial directly as given, taking a list `coeff` of coefficients, such that $a_0 =$ `coeff[0]` etc., and $x$, as input parameters."
      ]
    },
    {
      "cell_type": "code",
      "metadata": {
        "id": "iENJn1EnXXL1"
      },
      "source": [
        "def poly_simple( coeff, x ):\n",
        "    sum = 0.0\n",
        "    \n",
        "    for i, c in enumerate(coeff):\n",
        "        sum += c * x**i\n",
        "        \n",
        "    return sum"
      ],
      "execution_count": null,
      "outputs": []
    },
    {
      "cell_type": "markdown",
      "metadata": {
        "id": "dCtxiBNkXXL2"
      },
      "source": [
        "Let's plot the result of the evaluation in a narrow interval around $1$. Note that since NumPy directly applies numerical operations to all elements of an array, we can directly pass the entire array of evaluation points to our function without changes – neat!"
      ]
    },
    {
      "cell_type": "code",
      "metadata": {
        "id": "c_ESFQnZXXL2"
      },
      "source": [
        "a = [-512, 2304, -4608, 5376, -4032, 2016, -672, 144, -18, 1] # coefficients\n",
        "\n",
        "x = np.linspace( 1.9999, 2.0001, 1000 )\n",
        "p = poly_simple(a, x)\n",
        "\n",
        "plt.plot( x, p );"
      ],
      "execution_count": null,
      "outputs": []
    },
    {
      "cell_type": "markdown",
      "metadata": {
        "id": "hLO8skVPXXL2"
      },
      "source": [
        "As apparent, the evaluation is not very robust. Although we might expect 16 digits of precision, the computed values jiggle aroundin the last five digits.\n",
        "\n",
        "Horner's method uses a different approach to evaluation. The idea is to rewrite the polynomial as \n",
        "\n",
        "$$a_0 + x \\bigg(a_1 + x \\Big(a_2 + x \\big(a_3 + \\cdots + x(a_{n-1} + x \\, a_n) \\cdots \\big) \\Big) \\bigg)$$\n",
        "\n",
        "and evaluate the terms recursively. "
      ]
    },
    {
      "cell_type": "markdown",
      "metadata": {
        "id": "uZz7jlaFXXL2"
      },
      "source": [
        "<div class=\"alert alert-success\">\n",
        "\n",
        "**Task**: Below, implement the function `poly_horner`, with the same inputs as `poly_simple`, that evaluates the polynomial using Horner's method, and investigate your implementation using the cells below.\n",
        "</div>"
      ]
    },
    {
      "cell_type": "code",
      "metadata": {
        "id": "ihwMc8icXXL3"
      },
      "source": [
        "def poly_horner(coeff, x):\n",
        "    \n",
        "    # TODO\n",
        "    \n",
        "    return 0 "
      ],
      "execution_count": null,
      "outputs": []
    },
    {
      "cell_type": "markdown",
      "metadata": {
        "id": "3oet_t22XXL3"
      },
      "source": [
        "Let's compare both approaches in a plot:"
      ]
    },
    {
      "cell_type": "code",
      "metadata": {
        "id": "jiz0N_SNXXL4"
      },
      "source": [
        "p_simple = poly_simple(a, x)\n",
        "p_horner = poly_horner(a, x)\n",
        "\n",
        "plt.plot( x, p_simple, x, p_horner );"
      ],
      "execution_count": null,
      "outputs": []
    },
    {
      "cell_type": "markdown",
      "metadata": {
        "id": "6YorHE2VXXL4"
      },
      "source": [
        "Horner's method behaves better than the naïve approach.\n",
        "\n",
        "Of course, staring at the polynomial hard enough, we notice that it is actually the expanded form of $(x-2)^9$. Evaluating this directly, we find the best approximation:"
      ]
    },
    {
      "cell_type": "code",
      "metadata": {
        "id": "y3-2ot2WXXL5"
      },
      "source": [
        "p_factored = (x-2)**9\n",
        "plt.plot( x, p_simple, x, p_horner, x, p_factored );"
      ],
      "execution_count": null,
      "outputs": []
    },
    {
      "cell_type": "markdown",
      "metadata": {
        "id": "VzidV1rvXXL5"
      },
      "source": [
        "- - -"
      ]
    },
    {
      "cell_type": "markdown",
      "metadata": {
        "id": "ZTAmG-9kXXL6"
      },
      "source": [
        "<div class=\"alert alert-info\">\n",
        "    \n",
        "## Submit your Homework\n",
        "</div>"
      ]
    },
    {
      "cell_type": "markdown",
      "metadata": {
        "id": "W00_ii4KXXL6"
      },
      "source": [
        "<div class=\"alert alert-success\">\n",
        "\n",
        "**Task**: Submit your homework in OLAT. To do this, proceed as follows:\n",
        "\n",
        "- Make sure your notebook runs without errors:\n",
        "    - Clear the output of all cells and restart the kernel (click \"Kernel / Restart and Clear Output\" above).\n",
        "    - Run all cells (click \"Cell / Run All\" above).\n",
        "    - Repeat until all errors are resolved.\n",
        "    - Please make sure you are not using any extra packages beyond `numpy`, `matplotlib`, and `sympy`.\n",
        "\n",
        "\n",
        "- Save the Notebook file\n",
        "    - Clear all outputs\n",
        "    - Download the notebook using \"File / Download as / Notebook (.ipynb)\").\n",
        "\n",
        "\n",
        "- Rename the file to `Homework 1 - Group XX.ipynb`, where `XX` is your group number\n",
        "    - Note that there should be only one submission per group.\n",
        "\n",
        "\n",
        "- Submit in OLAT\n",
        "\n",
        "\n",
        "- Be happy!\n",
        "\n",
        "The same procedure will be used for all future homeworks.\n",
        "</div>"
      ]
    },
    {
      "cell_type": "code",
      "metadata": {
        "id": "UazxVUUhXXL7"
      },
      "source": [
        ""
      ],
      "execution_count": null,
      "outputs": []
    }
  ]
}