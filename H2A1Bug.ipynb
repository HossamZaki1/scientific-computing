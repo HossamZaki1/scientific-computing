{
  "nbformat": 4,
  "nbformat_minor": 0,
  "metadata": {
    "kernelspec": {
      "display_name": "Python 3",
      "language": "python",
      "name": "python3"
    },
    "language_info": {
      "codemirror_mode": {
        "name": "ipython",
        "version": 3
      },
      "file_extension": ".py",
      "mimetype": "text/x-python",
      "name": "python",
      "nbconvert_exporter": "python",
      "pygments_lexer": "ipython3",
      "version": "3.8.8"
    },
    "colab": {
      "name": "Homework+02.ipynb",
      "provenance": [],
      "include_colab_link": true
    }
  },
  "cells": [
    {
      "cell_type": "markdown",
      "metadata": {
        "id": "view-in-github",
        "colab_type": "text"
      },
      "source": [
        "<a href=\"https://colab.research.google.com/github/HossamZaki1/scientific-computing/blob/main/H2A1Bug.ipynb\" target=\"_parent\"><img src=\"https://colab.research.google.com/assets/colab-badge.svg\" alt=\"Open In Colab\"/></a>"
      ]
    },
    {
      "cell_type": "markdown",
      "metadata": {
        "id": "wjpBcrzCB2WZ"
      },
      "source": [
        "##### Group: xx (name1, name2, name3, name4)"
      ]
    },
    {
      "cell_type": "markdown",
      "metadata": {
        "id": "9uRrtKp-B2We"
      },
      "source": [
        "# Homework 2\n",
        "\n",
        "The purpose of this homework is to get acquainted with the solution of linear systems using elementary methods. As a model problem, we will work with polynomial interpolation. We will also use this homework as an opportunity to examine and familiarize ourselves with the Numpy library for Python, which makes it extremely easy to work with arrays in general, and vectors and matrices in particular.\n",
        "\n",
        "- - -\n",
        "\n",
        "<div class=\"alert alert-info\">\n",
        "\n",
        "### NumPy and Linear Algebra in Python\n",
        "</div>\n",
        "\n",
        "There are several excellent sources of documentation for Numpy.\n",
        "\n",
        "<div class=\"alert alert-success\">\n",
        "    \n",
        "**Task 1:** Familiarize yourself with Numpy by reading the [quickstart tutorial](https://docs.scipy.org/doc/numpy/user/quickstart.html):\n",
        "- In particular, since we will be working with matrices (two-dimensional arrays), make sure you understand indexing and slicing.\n",
        "- Also, be aware of the semantics of assignments (view vs. copy), which is sometimes tricky for beginners. More [here](https://www.jessicayung.com/numpy-views-vs-copies-avoiding-costly-mistakes/) and [here](https://scipy-cookbook.readthedocs.io/items/ViewsVsCopies.html).\n",
        "</div>\n",
        "\n",
        "Let's get started by importing the relevant packages and doing some basic setup."
      ]
    },
    {
      "cell_type": "code",
      "metadata": {
        "id": "QFUv_1g-B2Wf"
      },
      "source": [
        "import numpy as np              # basic arrays, vectors, matrices\n",
        "import numpy.linalg as la       # linear algebra functions\n",
        "import matplotlib.pyplot as plt # plotting\n",
        "\n",
        "%matplotlib inline"
      ],
      "execution_count": 21,
      "outputs": []
    },
    {
      "cell_type": "markdown",
      "metadata": {
        "id": "2WKkfSjYB2Wi"
      },
      "source": [
        "- - -\n",
        "\n",
        "<div class=\"alert alert-info\">\n",
        "\n",
        "### Polynomial Interpolation\n",
        "</div>\n",
        "\n",
        "*Interpolation* refers to the process of extrapolating from discrete measurements to a continuous function. A model problem is for example to compute the continuous trajectory $x(t)$ of an object over time from discrete snapshots $(t_i,x_i)$. *Polynomial interpolation* specifically refers to describing the continuous function as a polynomial.\n",
        "\n",
        "Formally, the (one-dimensional) polynomial interpolation problem is described as follows: given a sequence of $n+1$ $x$-coordinates $(x_0,\\dots,x_n)$ with $x_i \\neq x_j$ if $i\\neq j$ and corresponding values $y_i \\in \\mathbb{R}$, determine a polynomial $p(x)$ of degree $n$ such that\n",
        "\n",
        "$$\n",
        "p(x_i)\\ =\\ a_n x_i^n + a_{n-1} x_i^{n-1} + \\cdots + a_1 x_i + a_0\\ \\stackrel{!}{=}\\ y_i,\\ \\ i=0,\\dots,n.\n",
        "$$\n",
        "\n",
        "This problem can be turned into a linear system, as follows:\n",
        "\n",
        "Let $v_i$ the vector of powers of $x_i$, i.e. \n",
        "\n",
        "$$v_i = (1, x_i, x_i^2, \\dots, x_i^n)^T,$$ \n",
        "\n",
        "and let $a = (a_0, a_1, \\dots, a_n)^T$ the vector of coefficients of $p$. Then, the interpolation condition $p(x_i) = y_i$ can be written as the scalar product of $v_i$ and $a$, since\n",
        "\n",
        "$$\n",
        "p(x_i)\\ =\\ a_n x_i^n + \\cdots + a_1 x_i + 1 \\cdot a_0 = \\ a^T v_i\\  \\stackrel{!}{=} y_i\n",
        "$$\n",
        "\n",
        "Repeating this for $i=0,\\dots,n$, we obtain a linear system for the coefficients:\n",
        "\n",
        "$$\n",
        "\\begin{pmatrix}\n",
        "1 & x_0 & x_0^2 & \\cdots & x_0^n \\\\\n",
        "1 & x_1 & x_1^2 & \\cdots & x_1^n \\\\\n",
        "1 & x_2 & x_2^2 & \\cdots & x_2^n \\\\\n",
        "\\vdots & \\vdots &\\vdots &\\vdots & \\\\\n",
        "1 & x_n & x_n^2 & \\cdots & x_n^n \\\\\n",
        "\\end{pmatrix}\n",
        "\\begin{pmatrix} a_0 \\\\ a_1 \\\\ a_2 \\\\ \\vdots \\\\ a_n\\end{pmatrix} =\n",
        "\\begin{pmatrix} y_0 \\\\ y_1 \\\\ y_2 \\\\ \\vdots \\\\ y_n\\end{pmatrix}\n",
        "\\qquad\n",
        "$$\n",
        "\n",
        "or briefly using matrix notation\n",
        "\n",
        "$$V a = y$$\n",
        "\n",
        "The $(n+1)\\times (n+1)$ system matrix $V$ with $V_{ij} = x_i^j$ is called a *Vandermonde matrix*. A solution of the corresponding system gives the coefficients $a$ of the polynomial $p$.\n",
        "\n",
        "Let's consider a specific problem instance: first, define NumPy arrays containing the data $x_i$ and $y_i$:"
      ]
    },
    {
      "cell_type": "code",
      "metadata": {
        "colab": {
          "base_uri": "https://localhost:8080/",
          "height": 265
        },
        "id": "3whAjAkKB2Wj",
        "outputId": "377e9ebc-654d-414a-8a5f-e8172d5e1017"
      },
      "source": [
        "n = 4\n",
        "y = np.array( [3., 5, 2, 3, 1] )\n",
        "x = np.array( [0., 1, 2, 3, 4] )\n",
        "\n",
        "plt.plot( x, y, 'bo' );"
      ],
      "execution_count": 22,
      "outputs": [
        {
          "output_type": "display_data",
          "data": {
            "image/png": "[encoded data removed]",
            "text/plain": [
              "<Figure size 432x288 with 1 Axes>"
            ]
          },
          "metadata": {
            "needs_background": "light"
          }
        }
      ]
    },
    {
      "cell_type": "markdown",
      "metadata": {
        "id": "y_AnPgPqB2Wm"
      },
      "source": [
        "Graphically, our goal is to construct a polynomial of degree $4$ (since there are five points) that exactly passes through these points. \n",
        "\n",
        "(You have encountered this problem previously when constructing a line (= polynomial of degree one) given two points, or a parabola (= polynomial of degree two) that passes through three given points.\n",
        "\n",
        "We begin by constructing the Vandermonde system matrix for the $x_i$. Naively, we would write"
      ]
    },
    {
      "cell_type": "code",
      "metadata": {
        "colab": {
          "base_uri": "https://localhost:8080/"
        },
        "id": "mMoq3tWlB2Wo",
        "outputId": "89914f07-e254-45fa-930c-6a3d9136ae33"
      },
      "source": [
        "V = np.empty( (n+1, n+1) )\n",
        "\n",
        "# directly fill in matrix entries\n",
        "for i in range(n+1):\n",
        "    for j in range(n+1):\n",
        "        V[i,j] = x[i]**j\n",
        "        \n",
        "V"
      ],
      "execution_count": 23,
      "outputs": [
        {
          "output_type": "execute_result",
          "data": {
            "text/plain": [
              "array([[  1.,   0.,   0.,   0.,   0.],\n",
              "       [  1.,   1.,   1.,   1.,   1.],\n",
              "       [  1.,   2.,   4.,   8.,  16.],\n",
              "       [  1.,   3.,   9.,  27.,  81.],\n",
              "       [  1.,   4.,  16.,  64., 256.]])"
            ]
          },
          "metadata": {},
          "execution_count": 23
        }
      ]
    },
    {
      "cell_type": "markdown",
      "metadata": {
        "id": "BLoFSlJWB2Wp"
      },
      "source": [
        "However, we can write this a little more compactly using a list comprehension:"
      ]
    },
    {
      "cell_type": "code",
      "metadata": {
        "colab": {
          "base_uri": "https://localhost:8080/"
        },
        "id": "X2OjBXGaB2Wp",
        "outputId": "fa291ca0-4443-4a0a-c522-0a52aa5dcc85"
      },
      "source": [
        "# create a 2D array whose rows are the powers of x,\n",
        "# then transpose so the columns are the powers of x\n",
        "V = np.array( [x**p for p in range(n+1)] )\n",
        "V= np.transpose(V)\n",
        "print(V)"
      ],
      "execution_count": 24,
      "outputs": [
        {
          "output_type": "stream",
          "name": "stdout",
          "text": [
            "[[  1.   0.   0.   0.   0.]\n",
            " [  1.   1.   1.   1.   1.]\n",
            " [  1.   2.   4.   8.  16.]\n",
            " [  1.   3.   9.  27.  81.]\n",
            " [  1.   4.  16.  64. 256.]]\n"
          ]
        }
      ]
    },
    {
      "cell_type": "markdown",
      "metadata": {
        "id": "n_ooS6r4B2Wr"
      },
      "source": [
        "Even shorter: NumPy directly offers the [`vander`](https://docs.scipy.org/doc/numpy/reference/generated/numpy.vander.html) function for constructing $V$. By default, `vander` constructs the matrix such that the powers decrease along the rows of $V$; we thus need to pass `increasing=True` to match the order of $a$ we defined above."
      ]
    },
    {
      "cell_type": "code",
      "metadata": {
        "scrolled": true,
        "colab": {
          "base_uri": "https://localhost:8080/"
        },
        "id": "BjsUR4IZB2Wr",
        "outputId": "f9cb7182-25be-43f6-8a03-16324f193ca6"
      },
      "source": [
        "V = np.vander( x, increasing=True )\n",
        "V"
      ],
      "execution_count": 25,
      "outputs": [
        {
          "output_type": "execute_result",
          "data": {
            "text/plain": [
              "array([[  1.,   0.,   0.,   0.,   0.],\n",
              "       [  1.,   1.,   1.,   1.,   1.],\n",
              "       [  1.,   2.,   4.,   8.,  16.],\n",
              "       [  1.,   3.,   9.,  27.,  81.],\n",
              "       [  1.,   4.,  16.,  64., 256.]])"
            ]
          },
          "metadata": {},
          "execution_count": 25
        }
      ]
    },
    {
      "cell_type": "markdown",
      "metadata": {
        "id": "Iz19igBHB2Ws"
      },
      "source": [
        "Now we can solve the system $Va = y$ for $a$ to obtain the coefficients of the polynomial $p$."
      ]
    },
    {
      "cell_type": "markdown",
      "metadata": {
        "id": "h2mbuoDbB2Ws"
      },
      "source": [
        "- - -\n",
        "\n",
        "<div class=\"alert alert-info\">\n",
        "    \n",
        "### Gauss Elimination\n",
        "</div>\n",
        "\n",
        "As discussed in the lecture, the Gauss elimination algorithm can be used to solve the system above."
      ]
    },
    {
      "cell_type": "markdown",
      "metadata": {
        "id": "qmJYI_umB2Ws"
      },
      "source": [
        "<div class=\"alert alert-success\">\n",
        "    \n",
        "**Task 2:** Implement the Gauss algorithm (without pivoting) in two steps through the below functions:\n",
        "- `bwd_subs` should perform backward substitution to solve an upper tridiagonal system\n",
        "- `gauss_solve` should reduce the extended matrix $(A,b)$ to upper tridiagonal form via Gauss elimination, and then use `bwd_subs` to solve the system\n",
        "- It is always sensible to think about ways to validate your implementations, e.g. check that `bwd_subs` does the right thing.\n",
        "- Note that while indices of matrix rows etc. start at $1$ in standard mathematical notation (and hence in the slides), NumPy indices begin at $0$.\n",
        "</div>"
      ]
    },
    {
      "cell_type": "code",
      "metadata": {
        "id": "R7hNWDDlB2Wt"
      },
      "source": [
        "def bwd_subs( U, y ):\n",
        "        \n",
        "    \"\"\"Solve the linear system Ux = y with upper triangular matrix U by backward substitution.\"\"\"\n",
        "    dim = len(y)\n",
        "    x = np.empty((dim))\n",
        "    # TO DO\n",
        "    x[-1] = y[-1]/U[-1][-1]\n",
        "    \n",
        "    for j in range(dim-2,-1,-1):\n",
        "        summ = 0\n",
        "        for k in range(j+1,dim):\n",
        "            summ += U[j][k] * x[k]\n",
        "        \n",
        "        x[j] = (1/U[j][j])*(y[j] - summ)\n",
        "    \n",
        "    return x\n",
        "\n",
        "def gauss_solve( A, b ):\n",
        "    \"\"\"Solve the linear system Ax=b using direct Gaussian elimination and backward substitution.\"\"\"\n",
        "    rows = len(A)\n",
        "    # TO DO\n",
        "    for i in range(rows):\n",
        "        if A[i][i] == 0:\n",
        "            break\n",
        "        else:\n",
        "            for j in range(i+1,rows):\n",
        "                pivots_ratio = A[j][i]/A[i][i]\n",
        "                \n",
        "                for k in range(rows):\n",
        "                    A[j][k] = A[j][k] - pivots_ratio*A[i][k]   \n",
        "    \n",
        "    return bwd_subs(A,b)"
      ],
      "execution_count": 26,
      "outputs": []
    },
    {
      "cell_type": "markdown",
      "metadata": {
        "id": "Tt3FZ6-eB2Wt"
      },
      "source": [
        "Let's apply this to our problem and validate the solution graphically. NumPy conveniently provides the [`polyval`](https://docs.scipy.org/doc/numpy/reference/generated/numpy.polyval.html) function to evaluate the found polynomial. \n",
        "\n",
        "A potential showstopper is that `polyval` requires as input the coefficients in descending order (i.e. `a[0]` as the coefficient of $x^n$), while we compute them in ascending order (`a[n]` is the coefficient of $x^n$). This is however easily remedied using NumPy's [`flip`](https://docs.scipy.org/doc/numpy/reference/generated/numpy.flip.html?highlight=flip#numpy.flip) function."
      ]
    },
    {
      "cell_type": "code",
      "metadata": {
        "scrolled": true,
        "colab": {
          "base_uri": "https://localhost:8080/",
          "height": 268
        },
        "id": "zLjdpk5_B2Wu",
        "outputId": "a22b030d-0205-40fa-91a5-1704064dbe1a"
      },
      "source": [
        "a = gauss_solve( V, y )\n",
        "\n",
        "# plot output\n",
        "xx = np.linspace( x.min(), x.max(), 100 )\n",
        "yy = np.polyval( np.flip(a), xx )\n",
        "\n",
        "plt.plot( xx, yy, 'r-', x, y, 'bo' );"
      ],
      "execution_count": 27,
      "outputs": [
        {
          "output_type": "display_data",
          "data": {
            "image/png": "[encoded data removed]",
            "text/plain": [
              "<Figure size 432x288 with 1 Axes>"
            ]
          },
          "metadata": {
            "needs_background": "light"
          }
        }
      ]
    },
    {
      "cell_type": "markdown",
      "metadata": {
        "id": "67YExwZJB2Wu"
      },
      "source": [
        "Problem solved! (... if you completed task 2.)"
      ]
    },
    {
      "cell_type": "markdown",
      "metadata": {
        "id": "6-P-sk_QB2Ww"
      },
      "source": [
        "- - -\n",
        "\n",
        "<div class=\"alert alert-info\">\n",
        "    \n",
        "### LU Decomposition\n",
        "</div>\n",
        "\n",
        "While Gauss elimination works well for a small number of points, for a large number of points it does not work well. Let's look at a larger problem instance:"
      ]
    },
    {
      "cell_type": "code",
      "metadata": {
        "colab": {
          "base_uri": "https://localhost:8080/",
          "height": 276
        },
        "id": "CYNldrG_B2Ww",
        "outputId": "7149a8e7-b613-4227-d10c-6cd61184d19d"
      },
      "source": [
        "n = 50\n",
        "x = np.linspace( -1, 1, n )\n",
        "y = np.cos( 15*x**2 )\n",
        "\n",
        "# set up system matrix\n",
        "V = np.vander( x, increasing=True )\n",
        "a = gauss_solve( V, y )\n",
        "\n",
        "# plot output\n",
        "xx = np.linspace( x.min(), x.max(), 100 )\n",
        "yy = np.polyval( np.flip(a), xx )\n",
        "\n",
        "plt.plot( xx, yy, 'r-', x, y, 'bo' );"
      ],
      "execution_count": 8,
      "outputs": [
        {
          "output_type": "display_data",
          "data": {
            "image/png": "[encoded data removed]",
            "text/plain": [
              "<Figure size 432x288 with 1 Axes>"
            ]
          },
          "metadata": {
            "needs_background": "light"
          }
        }
      ]
    },
    {
      "cell_type": "markdown",
      "metadata": {
        "id": "mqImd_35B2Ww"
      },
      "source": [
        "This does not look entirely right. In order to quantify the error, we can compute the norm of the *residual* vector: \n",
        "\n",
        "$$r := y - Va $$"
      ]
    },
    {
      "cell_type": "code",
      "metadata": {
        "colab": {
          "base_uri": "https://localhost:8080/"
        },
        "id": "Enf7WQWqB2Wx",
        "outputId": "12fa29e1-e2e1-4f2a-c5fa-e877049fd9ed"
      },
      "source": [
        "la.norm(y- np.matmul(V, a))"
      ],
      "execution_count": 9,
      "outputs": [
        {
          "output_type": "execute_result",
          "data": {
            "text/plain": [
              "2874.0138037645397"
            ]
          },
          "metadata": {},
          "execution_count": 9
        }
      ]
    },
    {
      "cell_type": "markdown",
      "metadata": {
        "id": "DDKFkkL0B2Wx"
      },
      "source": [
        "and see that it is not actually small. \n",
        "\n",
        "The reason that the residual is so large lies in the ill-conditioned nature of the system matrix. NumPy gives us an easy way to compute the condition number of the system matrix, which indicates how much small errors are amplified when solving the system:"
      ]
    },
    {
      "cell_type": "code",
      "metadata": {
        "colab": {
          "base_uri": "https://localhost:8080/"
        },
        "id": "5jSzPkjCB2Wx",
        "outputId": "ec3b3ced-372a-4a5f-dbe9-f9817f5ce943"
      },
      "source": [
        "la.cond( V )"
      ],
      "execution_count": 10,
      "outputs": [
        {
          "output_type": "execute_result",
          "data": {
            "text/plain": [
              "13481494835161.824"
            ]
          },
          "metadata": {},
          "execution_count": 10
        }
      ]
    },
    {
      "cell_type": "markdown",
      "metadata": {
        "id": "1sPJZiThB2Wx"
      },
      "source": [
        "That is a big number. While the Gauss algorithm works well for well-conditioned problems, it is not stable enough to address severely ill-conditioned problems; hence it does not work well here.\n",
        "\n",
        "**Aside**: It is easy to see that the condition number increases rapidly with $n$:"
      ]
    },
    {
      "cell_type": "code",
      "metadata": {
        "colab": {
          "base_uri": "https://localhost:8080/",
          "height": 265
        },
        "id": "mkCJ_eheB2Wx",
        "outputId": "da0e5f4f-dfa3-47c6-c49e-66a4c9382141"
      },
      "source": [
        "plt.plot( [np.log10(la.cond(np.vander(np.linspace(0,1,n)))) for n in range(1,20)] );"
      ],
      "execution_count": 11,
      "outputs": [
        {
          "output_type": "display_data",
          "data": {
            "image/png": "[encoded data removed]",
            "text/plain": [
              "<Figure size 432x288 with 1 Axes>"
            ]
          },
          "metadata": {
            "needs_background": "light"
          }
        }
      ]
    },
    {
      "cell_type": "markdown",
      "metadata": {
        "id": "UfZIkOEZB2Wy"
      },
      "source": [
        "As the number of points increases, the columns of the Vandermonde matrix become more and more similar and thus less and less linear independent; for 10 points, the condition number is already $\\approx 10^8$. In a sense, the system becomes more and more difficult to solve, leading to increasing problems in the application of numerical techniques. (This is quite typical behavior for many important numerical problems / techniques.)\n",
        "\n",
        "To remedy this, let's apply the LU decomposition with partial pivoting to solve this system. The purpose of the pivoting is to increase the numerical stability of the algorithm.\n",
        "\n",
        "Here is a slightly simpler algorithm for the LU decomposition than the one discussed in the lecture. It decomposes $PA = LU$ and does not detect singular $A$, but is easier to implement:\n",
        "\n",
        "- - -\n",
        "    \n",
        "Input $A \\in \\mathbb{R}^{n \\times n}$; Output $P,L,U$ such that $PA = LU$.\n",
        "\n",
        "Let $U = I_n, L = I_n, P = I_n$ with $I_n$ being the identity matrix of dimension $n \\times n$.\n",
        "\n",
        "For $k = 1, \\ldots, n$:\n",
        "- find $k \\leq i \\leq n$ to maximize $|A_{ik}|$\n",
        "- exchange rows $k$ and $i$ of $P$\n",
        "\n",
        "Let $A' = P \\cdot A$.\n",
        "\n",
        "For $j = 1, \\ldots, n$:\n",
        "- For $i = 1, \\ldots, j$: $U_{ij} = A'_{ij} - \\sum\\limits_{k=1}^{i-1}{U_{kj}L_{ik}}$\n",
        "- For $i = j, \\ldots, n$: $L_{ij} = \\frac{1}{U_{jj}} \\left(A'_{ij} - \\sum\\limits_{k=1}^{j-1}{U_{kj}L_{ik}}\\right)$\n",
        "\n",
        "- - -\n",
        "\n",
        "<div class=\"alert alert-success\">\n",
        "\n",
        "**Task 3**: implement the routines `lu_factor`, `fwd_subs` and `lu_solve` below using the approach given above.\n",
        "\n",
        "</div>"
      ]
    },
    {
      "cell_type": "code",
      "metadata": {
        "id": "uDWQDn_MB2Wy"
      },
      "source": [
        "def lu_factor(A):\n",
        "    \"\"\"Perform an LU decomposition PA = LU with partial pivoting of the square matrix A.\"\"\"\n",
        "    \n",
        "    n = A.shape[0]\n",
        "\n",
        "    P = np.identity(n)\n",
        "    U = np.identity(n)\n",
        "    L = np.identity(n)\n",
        "    \n",
        "    # TO DO\n",
        "    \n",
        "    return (P, L, U)\n",
        "\n",
        "def fwd_subs( L, b ):\n",
        "    \"\"\"Solve the linear system Ly = b with lower triangular matrix L by forward substitution.\"\"\"\n",
        "    y = np.empty_like(b)\n",
        "    \n",
        "    # TO DO\n",
        "     \n",
        "    return y\n",
        "\n",
        "def lu_solve(P, L, U, b):\n",
        "    \"\"\"Solve the linear system Ax = b with upper/lower triangular matrices U, L and\n",
        "       permutation matrix P.\"\"\"\n",
        "    \n",
        "    # make sure all matrices are of the required form\n",
        "    assert np.all(U == np.triu(U)) # ensure U is upper triangular\n",
        "    #...\n",
        "    \n",
        "    # TO DO\n",
        "          \n",
        "    return x\n",
        "    "
      ],
      "execution_count": 12,
      "outputs": []
    },
    {
      "cell_type": "markdown",
      "metadata": {
        "id": "wwOFFFAUB2Wz"
      },
      "source": [
        "Let's apply this to our problem:"
      ]
    },
    {
      "cell_type": "code",
      "metadata": {
        "colab": {
          "base_uri": "https://localhost:8080/",
          "height": 282
        },
        "id": "21cWE_FBB2Wz",
        "outputId": "2383e5bb-8894-4785-8055-30a4c4f4e33a"
      },
      "source": [
        "n = 50\n",
        "x = np.linspace( -1, 1, n )\n",
        "y = np.cos( 15*x**2 )\n",
        "\n",
        "# set up system matrix\n",
        "V = np.vander( x, increasing=True )\n",
        "\n",
        "P,L,U = lu_factor(V)\n",
        "a = lu_solve(P,L,U,y)\n",
        "\n",
        "print( \"residual = \", la.norm( y- np.matmul(V, a)) )\n",
        "\n",
        "# plot output\n",
        "xx = np.linspace( x.min(), x.max(), 200 )\n",
        "yy = np.polyval( np.flip(a), xx )\n",
        "\n",
        "plt.plot( xx, yy, 'r-', x, y, 'bo' );"
      ],
      "execution_count": 13,
      "outputs": [
        {
          "output_type": "stream",
          "name": "stdout",
          "text": [
            "residual =  17.752303108487546\n"
          ]
        },
        {
          "output_type": "display_data",
          "data": {
            "image/png": "[encoded data removed]",
            "text/plain": [
              "<Figure size 432x288 with 1 Axes>"
            ]
          },
          "metadata": {
            "needs_background": "light"
          }
        }
      ]
    },
    {
      "cell_type": "markdown",
      "metadata": {
        "id": "GTH7gpfqB2W0"
      },
      "source": [
        "- - - \n",
        "\n",
        "<div class=\"alert alert-info\">\n",
        "\n",
        "### Microbenchmarks\n",
        "</div>\n",
        "\n",
        "Beyond numerical stability from pivoting, the LU decomposition also has one other advantage: the elimination work is captured in $L$ and $U$ and does not have to be repeated if the same linear system must be solved repeatedly for different right-hand sides.\n",
        "\n",
        "This is a good opportunity to use a *microbenchmark* to quickly get an idea whether this is true in practice. Let's create one using Jupyter's [`%%timeit`](https://ipython.readthedocs.io/en/stable/interactive/magics.html#magic-timeit) magic that measures the runtime of a single cell. First, set up a test problem, using again polynomial interpolation:"
      ]
    },
    {
      "cell_type": "code",
      "metadata": {
        "id": "2xE6sHWOB2W0"
      },
      "source": [
        "n = 40\n",
        "x = np.linspace( 0, 1, n )\n",
        "\n",
        "# set up the system matrix\n",
        "V = np.vander( x, increasing=True )\n",
        "\n",
        "# create m random right-hand sides\n",
        "m = 500\n",
        "y = np.random.random(size=(m,n))"
      ],
      "execution_count": 14,
      "outputs": []
    },
    {
      "cell_type": "markdown",
      "metadata": {
        "id": "SiqHWaLrB2W0"
      },
      "source": [
        "Now, we can measure the time required to do one decomposition and $m$ solutions:"
      ]
    },
    {
      "cell_type": "code",
      "metadata": {
        "colab": {
          "base_uri": "https://localhost:8080/"
        },
        "id": "tGCS1T_5B2W1",
        "outputId": "11daa317-e64c-4c79-d2ac-2391ab573e12"
      },
      "source": [
        "%%timeit\n",
        "\n",
        "P,L,U = lu_factor(V)\n",
        "for b in y:\n",
        "    a = lu_solve(P,L,U, b)"
      ],
      "execution_count": 15,
      "outputs": [
        {
          "output_type": "stream",
          "name": "stdout",
          "text": [
            "100 loops, best of 5: 11.6 ms per loop\n"
          ]
        }
      ]
    },
    {
      "cell_type": "markdown",
      "metadata": {
        "id": "Yk9t3paSB2W1"
      },
      "source": [
        "<div class=\"alert alert-success\">\n",
        "\n",
        "**Task 4**: create a microbenchmark that uses `gauss_solve` to solve the system for each right-hand side.\n",
        "</div>"
      ]
    },
    {
      "cell_type": "code",
      "metadata": {
        "id": "xMP0Lv2mB2W1"
      },
      "source": [
        "# TODO"
      ],
      "execution_count": 16,
      "outputs": []
    },
    {
      "cell_type": "markdown",
      "metadata": {
        "id": "OwVVic9WB2W2"
      },
      "source": [
        "Depending on your implementation, the LU decomposition should be significantly faster on this particular problem.\n",
        "\n",
        "Note: this is not a rigorous benchmark; it may be influenced by many factors such as overall system load etc. However, `%%timeit` can be useful to get a quick idea of execution time. (See the [documentation](https://ipython.readthedocs.io/en/stable/interactive/magics.html#magic-timeit) for more info.)\n",
        "\n",
        "**Concluding remark**: While it was instructive for the purposes of this homework to implement Gauss elimination and LU decomposition by ourselves, for real-world use, NumPy's linear algebra module offers the routine [`numpy.linalg.solve`](https://docs.scipy.org/doc/numpy/reference/generated/numpy.linalg.solve.html), which is a state-of-the-art linear system solver with many tricks to improve numerical stability. Furthermore, the `scipy` module contains implementations of the LU(P) decomposition (cf. [`scipy.linalg.lu`](https://docs.scipy.org/doc/scipy-0.14.0/reference/generated/scipy.linalg.lu.html))."
      ]
    },
    {
      "cell_type": "markdown",
      "metadata": {
        "id": "XUaurtGgB2W3"
      },
      "source": [
        "- - -\n",
        "\n",
        "<div class=\"alert alert-info\">\n",
        "    \n",
        "### Going to Space\n",
        "</div>"
      ]
    },
    {
      "cell_type": "markdown",
      "metadata": {
        "id": "sV2u5JaiB2W3"
      },
      "source": [
        "So far, we have used polynomial interpolation only for one-dimensional function graphs of the form $y=p(x)$. However, the basic methodology carries easily to interpolating a curve in $n$ dimensions (e.g. in two dimensions).\n",
        "\n",
        "We start from a modified basic setup: given $t_0,\\dots,t_n$ and $x_0,\\dots,x_n \\in \\mathbb{R}^d$, find the vector-valued polyomial $p(x)$ of degree $n+1$ such that \n",
        "\n",
        "$$p(t_i) = x_i.$$\n",
        "\n",
        "It can be easily recognizes that this can be solved by finding $d$ separate one-dimensional (i.e. real-valued) polynomials $p_1,\\dots,p_d$, each of degree $n+1$, for each of the $d$ components of the $x_i$. \n",
        "\n",
        "The following routine accomplishes this in the two-dimensional case, where `x` and `y` are arrays of coordinates of the interpolation points in the plane, and `t` is the array of the $t_i$ above."
      ]
    },
    {
      "cell_type": "code",
      "metadata": {
        "id": "CEACftcRB2W3"
      },
      "source": [
        "def poly2D(t, x, y):\n",
        "    return np.linalg.solve( \n",
        "        np.vander( t, increasing=True ), \n",
        "        np.stack([x,y]).transpose() \n",
        "    )"
      ],
      "execution_count": 17,
      "outputs": []
    },
    {
      "cell_type": "markdown",
      "metadata": {
        "id": "z0L8o1E8B2W4"
      },
      "source": [
        "Let's put this to the test:"
      ]
    },
    {
      "cell_type": "code",
      "metadata": {
        "colab": {
          "base_uri": "https://localhost:8080/",
          "height": 265
        },
        "id": "JzWw-_YlB2W4",
        "outputId": "ed324e30-5861-4d0f-c9e1-4a02f581bf46"
      },
      "source": [
        "n = 20\n",
        "t = np.linspace(0, 12, n)\n",
        "x = (3+t) * np.cos( t )\n",
        "y = (3+t) * np.sin( t )\n",
        "\n",
        "a = poly2D( t, x, y )\n",
        "\n",
        "# plot output\n",
        "tt = np.linspace( t.min(), t.max(), 200 )\n",
        "xx = np.polyval( np.flip(a[:,0]), tt )\n",
        "yy = np.polyval( np.flip(a[:,1]), tt )\n",
        "\n",
        "plt.plot( x, y, 'bo', xx, yy, 'r-' )\n",
        "plt.axis(\"equal\");"
      ],
      "execution_count": 18,
      "outputs": [
        {
          "output_type": "display_data",
          "data": {
            "image/png": "[encoded data removed]",
            "text/plain": [
              "<Figure size 432x288 with 1 Axes>"
            ]
          },
          "metadata": {
            "needs_background": "light"
          }
        }
      ]
    },
    {
      "cell_type": "markdown",
      "metadata": {
        "id": "wsGtSOmIB2W5"
      },
      "source": [
        "<div class=\"alert alert-success\">\n",
        "\n",
        "**Task 5**: Implement a function `poly3D`, by generalizing `poly2D` above to the three-dimensional case.\n",
        "</div>"
      ]
    },
    {
      "cell_type": "code",
      "metadata": {
        "id": "a0EZOCz4B2W5"
      },
      "source": [
        "def poly3D(t, x, y, z):\n",
        "    # TODO\n",
        "    return np.empty_like(t)"
      ],
      "execution_count": 19,
      "outputs": []
    },
    {
      "cell_type": "markdown",
      "metadata": {
        "id": "tW2TGFpUB2W5"
      },
      "source": [
        "<div class=\"alert alert-success\">\n",
        "\n",
        "**Task 6**: Illustrate the correctness of `poly3D` on a model problem similar to the one for `poly2D` above.\n",
        "\n",
        "Notes: \n",
        "- To show the curve, you will have to use matplotlib's 3D plotting module. Documentation can be found [here](https://matplotlib.org/mpl_toolkits/mplot3d/tutorial.html), and a short tutorial is [here](https://towardsdatascience.com/an-easy-introduction-to-3d-plotting-with-matplotlib-801561999725).\n",
        "- Using matplotlib's notebook mode (triggered by `%matplotlib notebook`) will give you a nice, interactively rotatable plot. Try it out!\n",
        "</div>"
      ]
    },
    {
      "cell_type": "code",
      "metadata": {
        "scrolled": true,
        "id": "X7rVdjPQB2W5"
      },
      "source": [
        "# TODO"
      ],
      "execution_count": 20,
      "outputs": []
    }
  ]
}